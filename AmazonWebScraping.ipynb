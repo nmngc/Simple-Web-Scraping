{
  "nbformat": 4,
  "nbformat_minor": 0,
  "metadata": {
    "colab": {
      "provenance": []
    },
    "kernelspec": {
      "name": "python3",
      "display_name": "Python 3"
    },
    "language_info": {
      "name": "python"
    }
  },
  "cells": [
    {
      "cell_type": "code",
      "execution_count": null,
      "metadata": {
        "id": "PRgibIPdG6o7"
      },
      "outputs": [],
      "source": [
        "from bs4 import BeautifulSoup\n",
        "import requests\n",
        "import smtplib\n",
        "import time\n",
        "import datetime"
      ]
    },
    {
      "cell_type": "code",
      "source": [
        "URL = 'https://www.amazon.com/BH-Cool-Designs-Data-Opinion/dp/B0CC4B4DJ1/ref=sr_1_44?crid=1OOCIP94OJIKI&dib=eyJ2IjoiMSJ9.B7uW7yvKniNuJfByvEJ3Yk6LmV7Z6X6kELJFIYljCETV8haTFUOI7fnRYJlJv3kzptlo1fdvDSSWrNtYrE0WUqt0Cl2zG2UoY8NTWxx4Stynu5a6Rvz0fYGo42LhM0FaUuJYMijtr82Kfey6upK8HvDU3rYkJ5RqpO5WoE4ogQJC2NDeWnJkHkcWqyMiTaa2Da5--Gz-UP64hk3ICOMSXmZ57lDIyqQKuJ87sHYz0dTVNdW-P4O1e_kv5cuo_eTPKbINZtOWHgOZNDbCRku1ymGT_TgS23S2DctIjEbaVDk.AHmQW6ZJalB_PJGegvdZNCW4i2WPC_OZhNizhCPH7Q8&dib_tag=se&keywords=data+analyst+shirt&qid=1708272203&sprefix=data+analyst+%2Caps%2C339&sr=8-44'\n",
        "\n",
        "headers = {\"User-Agent\": \"Mozilla/5.0 (Windows NT 10.0; Win64; x64) AppleWebKit/537.36 (KHTML, like Gecko) Chrome/121.0.0.0 Safari/537.36\", \"Accept-Encoding\": \"gzip, deflate, br\", \"Accept\": \"text/html,application/xhtml+xml,application/xml;q=0.9,image/avif,image/webp,image/apng,*/*;q=0.8,application/signed-exchange;v=b3;q=0.7\",\"Upgrade-Insecure-Requests\": \"1\"}\n",
        "\n",
        "page = requests.get(URL, headers = headers)\n",
        "\n",
        "soup1 = BeautifulSoup(page.content, 'html.parser')\n",
        "soup2 = BeautifulSoup(soup1.prettify(),'html.parser')\n",
        "\n",
        "title = soup2.find(\"span\", attrs={\"id\": \"productTitle\"}).get_text().strip()\n",
        "attribute = soup2.find('form',attrs={'id':'twister'}).get_text(separator=' ',strip=1)\n",
        "\n",
        "print(title)\n",
        "print(attribute)"
      ],
      "metadata": {
        "colab": {
          "base_uri": "https://localhost:8080/"
        },
        "id": "DNZo4K_oaFvq",
        "outputId": "a0b38247-e936-45a2-bd1d-060ff341084f"
      },
      "execution_count": null,
      "outputs": [
        {
          "output_type": "stream",
          "name": "stdout",
          "text": [
            "Data Over Opinion - Men's Soft & Comfortable T-Shirt\n",
            "Size: Large Color: Black\n"
          ]
        }
      ]
    },
    {
      "cell_type": "code",
      "source": [
        "def custom_selector(tag):\n",
        "\t# Return \"span\" tags with a class name of \"target_span\"\n",
        "\treturn tag.name == \"span\" and tag.has_attr(\"class\") and 'a-truncate-cut' in tag.get(\"class\")\n",
        "\n",
        "h = soup2.find(custom_selector)\n",
        "print(h)"
      ],
      "metadata": {
        "colab": {
          "base_uri": "https://localhost:8080/"
        },
        "id": "E50-TTOYIL-O",
        "outputId": "ea7f8185-a036-493b-b449-715172c7689e"
      },
      "execution_count": null,
      "outputs": [
        {
          "output_type": "stream",
          "name": "stdout",
          "text": [
            "<span aria-hidden=\"true\" class=\"a-truncate-cut a-hidden\">\n",
            "</span>\n"
          ]
        }
      ]
    },
    {
      "cell_type": "code",
      "source": [
        "product_elements = soup2.find_all('li',class_='a-carousel-card')\n",
        "product_elements"
      ],
      "metadata": {
        "colab": {
          "base_uri": "https://localhost:8080/"
        },
        "id": "Fo4n5918N4y3",
        "outputId": "98ecee16-a709-4f29-8642-fd93b4f17b6a"
      },
      "execution_count": null,
      "outputs": [
        {
          "output_type": "execute_result",
          "data": {
            "text/plain": [
              "[<li class=\"a-carousel-card _multi-brand-video-desktop_style_carouselElement__3yEi0\" role=\"listitem\">\n",
              " <div class=\"_multi-brand-video-desktop_style_mbvItem___XsOm\" data-index=\"0\" data-type=\"mbvItem\" data-video-ad-attributes-props='{\"advertiserId\":\"45311010805\",\"campaignId\":\"200013663641521\",\"contentHash\":\"c738fee48b47c41a9a6ca495d4b86a87\",\"headline\":\"\",\"storeCta\":\"\",\"imageUrl\":\"https://m.media-amazon.com/images/I/31zb4jn2ipL._AC_SR100,100_.jpg\",\"instrumentationPixelUrl\":\"//aax-us-iad.amazon.com/x/px/RBqqep5U60yvoR_iJDvdGo4AAAGOBL4Z1wEAAAH2AQBvbm9fdHhuX2JpZDcgICBvbm9fdHhuX2ltcDEgICAu2qgt/\",\"linkUrl\":\"https://aax-us-iad.amazon.com/x/c/RBqqep5U60yvoR_iJDvdGo4AAAGOBL4Z1wEAAAH2AQBvbm9fdHhuX2JpZDcgICBvbm9fdHhuX2ltcDEgICAu2qgt/https://www.amazon.com/dp/B07GJYWL3G?pd_rd_i=B07GJYWL3G&amp;pf_rd_p=781503ef-fc4a-4a05-82e1-c6ce0583b45e&amp;amp;pf_rd_r=E3F1VQ42S7MNS1AX0V0R&amp;amp;pd_rd_wg=yC7YS&amp;amp;pd_rd_w=j75Rn&amp;amp;pd_rd_r=da9b7500-cfe9-43fe-a249-b6895faae055\",\"metricsIdentifier\":\"qualifier=1709476551&amp;anonymizedId=Gqp6nlTrTK-hH-IkO90ajg\",\"videoPreviewImageSrc\":\"https://d1f0esyb34c1g2.cloudfront.net/transcode/storyTeller/A1XRSAAVVSPZPR/f014cc00-1655-4eb8-ae18-5d39c171b8e8-SBV_291884-T1/a7408761-8e1d-413a-b0a5-4776710def15/1603845374853.0000000.jpg\",\"videoSrc\":\"https://d1f0esyb34c1g2.cloudfront.net/transcode/storyTeller/A1XRSAAVVSPZPR/f014cc00-1655-4eb8-ae18-5d39c171b8e8-SBV_291884-T1/a7408761-8e1d-413a-b0a5-4776710def15/1603845374853sbv.mp4\",\"ccSrc\":\"\"}'>\n",
              " <img class=\"_multi-brand-video-desktop_style_trackingPixel__Yoiar\" data-src=\"https://aax-us-iad.amazon.com/e/loi/imp?b=JBqqep5U60yvoR_iJDvdGo4AAAGOBL4Z-gEAAAH2AQBvbm9fdHhuX2JpZDcgICBvbm9fdHhuX2ltcDEgICAu2qgt\" data-type=\"ip\" src=\"data:image/svg+xml,%3Csvg xmlns='http://www.w3.org/2000/svg' height='100%' width='100%' preserveAspectRatio='none' /%3E\"/>\n",
              " <div class=\"_multi-brand-video-desktop_style_brandVideoProductContainer__1qo2o\">\n",
              " <div class=\"_multi-brand-video-desktop_style_brandContainer__3tRuU\" data-type=\"brandContainer\">\n",
              " <div class=\"_multi-brand-video-desktop_style_nameContainer__3fF9z\">\n",
              " <span class=\"a-size-small\">\n",
              "                           UAB KIDKIS\n",
              "                          </span>\n",
              " </div>\n",
              " <a class=\"a-size-small a-link-normal\" href=\"https://aax-us-iad.amazon.com/x/c/RBqqep5U60yvoR_iJDvdGo4AAAGOBL4Z1wEAAAH2AQBvbm9fdHhuX2JpZDcgICBvbm9fdHhuX2ltcDEgICAu2qgt/https://amazon.com/UAB-KIDKIS/b?ie=UTF8&amp;node=21371382011&amp;field-lbr_brands_browse-bin=UAB+KIDKIS\">\n",
              "                          Shop the Store on Amazon ›\n",
              "                         </a>\n",
              " </div>\n",
              " <div class=\"_multi-brand-video-desktop_style_videoProductAdItem__3_zId\" data-type=\"videoProductAdItem\">\n",
              " <div class=\"_multi-brand-video-desktop_style_videoProductContainer__2Gm7Y\">\n",
              " <div class=\"_multi-brand-video-desktop_style_videoVerticalLayoutContainer__1G6PS\">\n",
              " <div class=\"_multi-brand-video-desktop_style_videoBackgroundContainer__235hF\" data-background-image-url=\"\" data-show-background-image=\"false\">\n",
              " <div class=\"_multi-brand-video-desktop_style_videoContainer__1fcYb\" data-preview=\"false\" data-type=\"videoContainer\">\n",
              " <a aria-label=\"Sponsored video, click to navigate to featured page.\" class=\"a-link-normal _multi-brand-video-desktop_Link_link__2AMAT\" href=\"https://aax-us-iad.amazon.com/x/c/RBqqep5U60yvoR_iJDvdGo4AAAGOBL4Z1wEAAAH2AQBvbm9fdHhuX2JpZDcgICBvbm9fdHhuX2ltcDEgICAu2qgt/https://www.amazon.com/dp/B07GJYWL3G?pd_rd_i=B07GJYWL3G&amp;pf_rd_p=781503ef-fc4a-4a05-82e1-c6ce0583b45e&amp;pf_rd_r=E3F1VQ42S7MNS1AX0V0R&amp;pd_rd_wg=yC7YS&amp;pd_rd_w=j75Rn&amp;pd_rd_r=da9b7500-cfe9-43fe-a249-b6895faae055\">\n",
              " <video class=\"_multi-brand-video-desktop_style_video__17g-f\" data-disable-looping=\"false\" data-poster=\"https://d1f0esyb34c1g2.cloudfront.net/transcode/storyTeller/A1XRSAAVVSPZPR/f014cc00-1655-4eb8-ae18-5d39c171b8e8-SBV_291884-T1/a7408761-8e1d-413a-b0a5-4776710def15/1603845374853.0000000.jpg\" muted=\"\" playsinline=\"true\" poster=\"data:image/svg+xml,%3Csvg xmlns='http://www.w3.org/2000/svg' width='16' height='9' /%3E\" preload=\"none\" src=\"https://d1f0esyb34c1g2.cloudfront.net/transcode/storyTeller/A1XRSAAVVSPZPR/f014cc00-1655-4eb8-ae18-5d39c171b8e8-SBV_291884-T1/a7408761-8e1d-413a-b0a5-4776710def15/1603845374853sbv.mp4\">\n",
              " </video>\n",
              " <div class=\"_multi-brand-video-desktop_style_videoOverlay__1H_Jm\" data-type=\"videoOverlay\">\n",
              " </div>\n",
              " </a>\n",
              " <div class=\"_multi-brand-video-desktop_style_playClickRegion__87ZZa\" data-type=\"playIcon\">\n",
              " <div class=\"_multi-brand-video-desktop_style_btnContainer__2bAO8\">\n",
              " <svg version=\"1.1\" viewbox=\"0 0 60 60\" width=\"100%\" xmlns=\"http://www.w3.org/1999/xlink\">\n",
              " <g fill=\"none\" fill-rule=\"evenodd\" id=\"Page-1\" stroke=\"none\" stroke-width=\"1\">\n",
              " <g id=\"SVG-Layer\">\n",
              " <g id=\"Group-7-Copy\">\n",
              " <g id=\"Oval\" opacity=\"0\" transform=\"translate(4.285714, 4.285714)\">\n",
              " <g fill=\"#000000\" fill-rule=\"nonzero\" id=\"path-1-link\">\n",
              " <circle cx=\"25.7142857\" cy=\"25.7142857\" id=\"path-1\" r=\"25.7142857\">\n",
              " </circle>\n",
              " </g>\n",
              " <g fill=\"#FFFFFF\" id=\"path-1-link\">\n",
              " <circle cx=\"25.7142857\" cy=\"25.7142857\" id=\"path-1\" r=\"25.7142857\">\n",
              " </circle>\n",
              " </g>\n",
              " </g>\n",
              " <g fill=\"#000000\" fill-rule=\"nonzero\" id=\"Group-9\" opacity=\"0.595284598\">\n",
              " <circle cx=\"30\" cy=\"30\" id=\"Oval\" r=\"30\">\n",
              " </circle>\n",
              " </g>\n",
              " </g>\n",
              " <polygon fill=\"#FFFFFF\" fill-rule=\"nonzero\" id=\"Stroke-1\" points=\"21.7241379 42.8571429 21.7241379 17.1428571 42.4137931 29.8824041\" stroke=\"#FFFFFF\" stroke-linecap=\"round\" stroke-linejoin=\"round\" stroke-width=\"1.25\">\n",
              " </polygon>\n",
              " </g>\n",
              " </g>\n",
              " </svg>\n",
              " </div>\n",
              " </div>\n",
              " </div>\n",
              " </div>\n",
              " </div>\n",
              " <div class=\"a-section _multi-brand-video-desktop_style_productContainer__N57_O\" data-type=\"productContainer\">\n",
              " <div class=\"a-fixed-left-grid _multi-brand-video-desktop_style_productRow__Fc-QW\">\n",
              " <div class=\"a-fixed-left-grid-inner\" style=\"padding-left:100px\">\n",
              " <div class=\"a-fixed-left-grid-col a-col-left\" style=\"width:100px;margin-left:-100px;float:left\">\n",
              " <div class=\"_multi-brand-video-desktop_style_productImageLinkContainer__3novt\" data-type=\"productImageLinkContainer\">\n",
              " <a class=\"a-link-normal a-text-normal\" href=\"https://aax-us-iad.amazon.com/x/c/RBqqep5U60yvoR_iJDvdGo4AAAGOBL4Z1wEAAAH2AQBvbm9fdHhuX2JpZDcgICBvbm9fdHhuX2ltcDEgICAu2qgt/https://www.amazon.com/dp/B07GJYWL3G?pd_rd_i=B07GJYWL3G&amp;pf_rd_p=781503ef-fc4a-4a05-82e1-c6ce0583b45e&amp;pf_rd_r=E3F1VQ42S7MNS1AX0V0R&amp;pd_rd_wg=yC7YS&amp;pd_rd_w=j75Rn&amp;pd_rd_r=da9b7500-cfe9-43fe-a249-b6895faae055\">\n",
              " <div class=\"_multi-brand-video-desktop_style_productImageContainer__1-a6X\">\n",
              " <img alt=\"\" class=\"_multi-brand-video-desktop_style_image__pQREQ\" data-image-latency=\"\" data-type=\"productImage\" src=\"https://m.media-amazon.com/images/I/31zb4jn2ipL._AC_SR100,100_.jpg\"/>\n",
              " </div>\n",
              " </a>\n",
              " </div>\n",
              " <div class=\"_multi-brand-video-desktop_Tint_tint__2SjfG\">\n",
              " </div>\n",
              " </div>\n",
              " <div class=\"a-fixed-left-grid-col a-col-right\" style=\"padding-left:0%;float:left\">\n",
              " <div class=\"_multi-brand-video-desktop_style_productDetails__2_cOo productDetailsContainer\">\n",
              " <a class=\"a-link-normal _multi-brand-video-desktop_style_productTitle__1rGyG\" data-type=\"productTitle\" href=\"https://aax-us-iad.amazon.com/x/c/RBqqep5U60yvoR_iJDvdGo4AAAGOBL4Z1wEAAAH2AQBvbm9fdHhuX2JpZDcgICBvbm9fdHhuX2ltcDEgICAu2qgt/https://www.amazon.com/dp/B07GJYWL3G?pd_rd_i=B07GJYWL3G&amp;pf_rd_p=781503ef-fc4a-4a05-82e1-c6ce0583b45e&amp;pf_rd_r=E3F1VQ42S7MNS1AX0V0R&amp;pd_rd_wg=yC7YS&amp;pd_rd_w=j75Rn&amp;pd_rd_r=da9b7500-cfe9-43fe-a249-b6895faae055\">\n",
              "                                Data Ninja Cute Expert Business Analyst Gift T-Shirt\n",
              "                               </a>\n",
              " <div class=\"a-section a-spacing-none\">\n",
              " <a class=\"a-link-normal\" data-type=\"productReviews\" href=\"https://aax-us-iad.amazon.com/x/c/RBqqep5U60yvoR_iJDvdGo4AAAGOBL4Z1wEAAAH2AQBvbm9fdHhuX2JpZDcgICBvbm9fdHhuX2ltcDEgICAu2qgt/https://www.amazon.com/dp/B07GJYWL3G?pd_rd_i=B07GJYWL3G&amp;pf_rd_p=781503ef-fc4a-4a05-82e1-c6ce0583b45e&amp;pf_rd_r=E3F1VQ42S7MNS1AX0V0R&amp;pd_rd_wg=yC7YS&amp;pd_rd_w=j75Rn&amp;pd_rd_r=da9b7500-cfe9-43fe-a249-b6895faae055\">\n",
              " <i class=\"a-icon a-icon-star a-star-5\">\n",
              " <span class=\"a-icon-alt\">\n",
              "                                   5.0 out of 5 stars\n",
              "                                  </span>\n",
              " </i>\n",
              " <span class=\"a-letter-space\">\n",
              " </span>\n",
              "                                 6\n",
              "                                </a>\n",
              " </div>\n",
              " </div>\n",
              " </div>\n",
              " </div>\n",
              " </div>\n",
              " </div>\n",
              " </div>\n",
              " </div>\n",
              " </div>\n",
              " </div>\n",
              " </li>,\n",
              " <li class=\"a-carousel-card _multi-brand-video-desktop_style_carouselElement__3yEi0\" role=\"listitem\">\n",
              " <div class=\"_multi-brand-video-desktop_style_mbvItem___XsOm\" data-index=\"1\" data-type=\"mbvItem\" data-video-ad-attributes-props='{\"advertiserId\":\"244044878302\",\"campaignId\":\"200032627734231\",\"contentHash\":\"264e81fafec790ad3e0c1d8d4b07e344\",\"headline\":\"\",\"storeCta\":\"\",\"imageUrl\":\"https://m.media-amazon.com/images/I/31FeAAJJZxL._AC_SR100,100_.jpg\",\"instrumentationPixelUrl\":\"//aax-us-iad.amazon.com/x/px/RJOUPCxE7_MIstqe_zYtf6IAAAGOBL4Z1wEAAAH2AQBvbm9fdHhuX2JpZDcgICBvbm9fdHhuX2ltcDEgICAjiB4p/\",\"linkUrl\":\"https://aax-us-iad.amazon.com/x/c/RJOUPCxE7_MIstqe_zYtf6IAAAGOBL4Z1wEAAAH2AQBvbm9fdHhuX2JpZDcgICBvbm9fdHhuX2ltcDEgICAjiB4p/https://www.amazon.com/dp/B0975R78G2?pd_rd_i=B0975R78G2&amp;pf_rd_p=781503ef-fc4a-4a05-82e1-c6ce0583b45e&amp;amp;pf_rd_r=E3F1VQ42S7MNS1AX0V0R&amp;amp;pd_rd_wg=yC7YS&amp;amp;pd_rd_w=j75Rn&amp;amp;pd_rd_r=da9b7500-cfe9-43fe-a249-b6895faae055\",\"metricsIdentifier\":\"qualifier=1709476551&amp;anonymizedId=k5Q8LETv8wiy2p7.Ni1.og\",\"videoPreviewImageSrc\":\"https://d1f0esyb34c1g2.cloudfront.net/transcode/storyTeller/A2V1BW85KQJ85H/1624507386923/7efda668-2a34-4c6e-b7b2-1d24d062345a/1624507394950.0000000.jpg\",\"videoSrc\":\"https://d1f0esyb34c1g2.cloudfront.net/transcode/storyTeller/A2V1BW85KQJ85H/1624507386923/7efda668-2a34-4c6e-b7b2-1d24d062345a/1624507394950sbv.mp4\",\"ccSrc\":\"\"}'>\n",
              " <img class=\"_multi-brand-video-desktop_style_trackingPixel__Yoiar\" data-src=\"https://aax-us-iad.amazon.com/e/loi/imp?b=JJOUPCxE7_MIstqe_zYtf6IAAAGOBL4Z-gEAAAH2AQBvbm9fdHhuX2JpZDcgICBvbm9fdHhuX2ltcDEgICAjiB4p\" data-type=\"ip\" src=\"data:image/svg+xml,%3Csvg xmlns='http://www.w3.org/2000/svg' height='100%' width='100%' preserveAspectRatio='none' /%3E\"/>\n",
              " <div class=\"_multi-brand-video-desktop_style_brandVideoProductContainer__1qo2o\">\n",
              " <div class=\"_multi-brand-video-desktop_style_brandContainer__3tRuU\" data-type=\"brandContainer\">\n",
              " <div class=\"_multi-brand-video-desktop_style_nameContainer__3fF9z\">\n",
              " <span class=\"a-size-small\">\n",
              "                           Funny Data Analyst Shirts &amp; Gifts\n",
              "                          </span>\n",
              " </div>\n",
              " <a class=\"a-size-small a-link-normal\" href=\"https://aax-us-iad.amazon.com/x/c/RJOUPCxE7_MIstqe_zYtf6IAAAGOBL4Z1wEAAAH2AQBvbm9fdHhuX2JpZDcgICBvbm9fdHhuX2ltcDEgICAjiB4p/https://amazon.com/s?ie=UTF8&amp;node=7141123011&amp;field-brandtextbin=Funny+Data+Analyst+Shirts+%26+Gifts\">\n",
              "                          Shop the Store on Amazon ›\n",
              "                         </a>\n",
              " </div>\n",
              " <div class=\"_multi-brand-video-desktop_style_videoProductAdItem__3_zId\" data-type=\"videoProductAdItem\">\n",
              " <div class=\"_multi-brand-video-desktop_style_videoProductContainer__2Gm7Y\">\n",
              " <div class=\"_multi-brand-video-desktop_style_videoVerticalLayoutContainer__1G6PS\">\n",
              " <div class=\"_multi-brand-video-desktop_style_videoBackgroundContainer__235hF\" data-background-image-url=\"\" data-show-background-image=\"false\">\n",
              " <div class=\"_multi-brand-video-desktop_style_videoContainer__1fcYb\" data-preview=\"false\" data-type=\"videoContainer\">\n",
              " <a aria-label=\"Sponsored video, click to navigate to featured page.\" class=\"a-link-normal _multi-brand-video-desktop_Link_link__2AMAT\" href=\"https://aax-us-iad.amazon.com/x/c/RJOUPCxE7_MIstqe_zYtf6IAAAGOBL4Z1wEAAAH2AQBvbm9fdHhuX2JpZDcgICBvbm9fdHhuX2ltcDEgICAjiB4p/https://www.amazon.com/dp/B0975R78G2?pd_rd_i=B0975R78G2&amp;pf_rd_p=781503ef-fc4a-4a05-82e1-c6ce0583b45e&amp;pf_rd_r=E3F1VQ42S7MNS1AX0V0R&amp;pd_rd_wg=yC7YS&amp;pd_rd_w=j75Rn&amp;pd_rd_r=da9b7500-cfe9-43fe-a249-b6895faae055\">\n",
              " <video class=\"_multi-brand-video-desktop_style_video__17g-f\" data-disable-looping=\"false\" data-poster=\"https://d1f0esyb34c1g2.cloudfront.net/transcode/storyTeller/A2V1BW85KQJ85H/1624507386923/7efda668-2a34-4c6e-b7b2-1d24d062345a/1624507394950.0000000.jpg\" muted=\"\" playsinline=\"true\" poster=\"data:image/svg+xml,%3Csvg xmlns='http://www.w3.org/2000/svg' width='16' height='9' /%3E\" preload=\"none\" src=\"https://d1f0esyb34c1g2.cloudfront.net/transcode/storyTeller/A2V1BW85KQJ85H/1624507386923/7efda668-2a34-4c6e-b7b2-1d24d062345a/1624507394950sbv.mp4\">\n",
              " </video>\n",
              " <div class=\"_multi-brand-video-desktop_style_videoOverlay__1H_Jm\" data-type=\"videoOverlay\">\n",
              " </div>\n",
              " </a>\n",
              " <div class=\"_multi-brand-video-desktop_style_playClickRegion__87ZZa\" data-type=\"playIcon\">\n",
              " <div class=\"_multi-brand-video-desktop_style_btnContainer__2bAO8\">\n",
              " <svg version=\"1.1\" viewbox=\"0 0 60 60\" width=\"100%\" xmlns=\"http://www.w3.org/1999/xlink\">\n",
              " <g fill=\"none\" fill-rule=\"evenodd\" id=\"Page-1\" stroke=\"none\" stroke-width=\"1\">\n",
              " <g id=\"SVG-Layer\">\n",
              " <g id=\"Group-7-Copy\">\n",
              " <g id=\"Oval\" opacity=\"0\" transform=\"translate(4.285714, 4.285714)\">\n",
              " <g fill=\"#000000\" fill-rule=\"nonzero\" id=\"path-1-link\">\n",
              " <circle cx=\"25.7142857\" cy=\"25.7142857\" id=\"path-1\" r=\"25.7142857\">\n",
              " </circle>\n",
              " </g>\n",
              " <g fill=\"#FFFFFF\" id=\"path-1-link\">\n",
              " <circle cx=\"25.7142857\" cy=\"25.7142857\" id=\"path-1\" r=\"25.7142857\">\n",
              " </circle>\n",
              " </g>\n",
              " </g>\n",
              " <g fill=\"#000000\" fill-rule=\"nonzero\" id=\"Group-9\" opacity=\"0.595284598\">\n",
              " <circle cx=\"30\" cy=\"30\" id=\"Oval\" r=\"30\">\n",
              " </circle>\n",
              " </g>\n",
              " </g>\n",
              " <polygon fill=\"#FFFFFF\" fill-rule=\"nonzero\" id=\"Stroke-1\" points=\"21.7241379 42.8571429 21.7241379 17.1428571 42.4137931 29.8824041\" stroke=\"#FFFFFF\" stroke-linecap=\"round\" stroke-linejoin=\"round\" stroke-width=\"1.25\">\n",
              " </polygon>\n",
              " </g>\n",
              " </g>\n",
              " </svg>\n",
              " </div>\n",
              " </div>\n",
              " </div>\n",
              " </div>\n",
              " </div>\n",
              " <div class=\"a-section _multi-brand-video-desktop_style_productContainer__N57_O\" data-type=\"productContainer\">\n",
              " <div class=\"a-fixed-left-grid _multi-brand-video-desktop_style_productRow__Fc-QW\">\n",
              " <div class=\"a-fixed-left-grid-inner\" style=\"padding-left:100px\">\n",
              " <div class=\"a-fixed-left-grid-col a-col-left\" style=\"width:100px;margin-left:-100px;float:left\">\n",
              " <div class=\"_multi-brand-video-desktop_style_productImageLinkContainer__3novt\" data-type=\"productImageLinkContainer\">\n",
              " <a class=\"a-link-normal a-text-normal\" href=\"https://aax-us-iad.amazon.com/x/c/RJOUPCxE7_MIstqe_zYtf6IAAAGOBL4Z1wEAAAH2AQBvbm9fdHhuX2JpZDcgICBvbm9fdHhuX2ltcDEgICAjiB4p/https://www.amazon.com/dp/B0975R78G2?pd_rd_i=B0975R78G2&amp;pf_rd_p=781503ef-fc4a-4a05-82e1-c6ce0583b45e&amp;pf_rd_r=E3F1VQ42S7MNS1AX0V0R&amp;pd_rd_wg=yC7YS&amp;pd_rd_w=j75Rn&amp;pd_rd_r=da9b7500-cfe9-43fe-a249-b6895faae055\">\n",
              " <div class=\"_multi-brand-video-desktop_style_productImageContainer__1-a6X\">\n",
              " <img alt=\"\" class=\"_multi-brand-video-desktop_style_image__pQREQ\" data-image-latency=\"\" data-type=\"productImage\" src=\"https://m.media-amazon.com/images/I/31FeAAJJZxL._AC_SR100,100_.jpg\"/>\n",
              " </div>\n",
              " </a>\n",
              " </div>\n",
              " <div class=\"_multi-brand-video-desktop_Tint_tint__2SjfG\">\n",
              " </div>\n",
              " </div>\n",
              " <div class=\"a-fixed-left-grid-col a-col-right\" style=\"padding-left:0%;float:left\">\n",
              " <div class=\"_multi-brand-video-desktop_style_productDetails__2_cOo productDetailsContainer\">\n",
              " <a class=\"a-link-normal _multi-brand-video-desktop_style_productTitle__1rGyG\" data-type=\"productTitle\" href=\"https://aax-us-iad.amazon.com/x/c/RJOUPCxE7_MIstqe_zYtf6IAAAGOBL4Z1wEAAAH2AQBvbm9fdHhuX2JpZDcgICBvbm9fdHhuX2ltcDEgICAjiB4p/https://www.amazon.com/dp/B0975R78G2?pd_rd_i=B0975R78G2&amp;pf_rd_p=781503ef-fc4a-4a05-82e1-c6ce0583b45e&amp;pf_rd_r=E3F1VQ42S7MNS1AX0V0R&amp;pd_rd_wg=yC7YS&amp;pd_rd_w=j75Rn&amp;pd_rd_r=da9b7500-cfe9-43fe-a249-b6895faae055\">\n",
              "                                Data Analyst Shirt | Best Data Analyst Ever T-Shirt\n",
              "                               </a>\n",
              " </div>\n",
              " </div>\n",
              " </div>\n",
              " </div>\n",
              " </div>\n",
              " </div>\n",
              " </div>\n",
              " </div>\n",
              " </div>\n",
              " </li>]"
            ]
          },
          "metadata": {},
          "execution_count": 4
        }
      ]
    },
    {
      "cell_type": "code",
      "source": [
        "URL = 'https://www.amazon.com/outlet/?_encoding=UTF8&ref_=sv_subnav_goldbox_3'\n",
        "\n",
        "headers = {\"User-Agent\": \"Mozilla/5.0 (Windows NT 10.0; Win64; x64) AppleWebKit/537.36 (KHTML, like Gecko) Chrome/121.0.0.0 Safari/537.36\", \"Accept-Encoding\": \"gzip, deflate, br\", \"Accept\": \"text/html,application/xhtml+xml,application/xml;q=0.9,image/avif,image/webp,image/apng,*/*;q=0.8,application/signed-exchange;v=b3;q=0.7\",\"Upgrade-Insecure-Requests\": \"1\"}\n",
        "\n",
        "page = requests.get(URL, headers = headers)\n",
        "\n",
        "soup1 = BeautifulSoup(page.content, 'lxml')\n",
        "soup2 = BeautifulSoup(soup1.prettify(),'html.parser')\n",
        "\n",
        "product_elements = soup2.find_all('li',class_='a-carousel-card')\n",
        "\n",
        "for product in product_elements[:10]:\n",
        "  brand = product.find(\"span\", attrs={'class':'a-truncate-full'}).get_text()\n",
        "  prod_name = product.find('span', attrs={'aria-hidden':'true'}).get_text(strip=1)\n",
        "  #prod_name = product.find('span', class_='a-text-normal').get_text(strip=True)\n",
        "  price_dollars = product.find('span', class_='a-price-whole').get_text(strip=1)\n",
        "  price_cents = product.find('span', class_='a-price-fraction').get_text(strip=1)\n",
        "  promotion = product.find('span', class_=\"a-size-mini a-color-base aok-nowrap\").get_text(strip=True)\n",
        "  ini_price = product.find('span', class_='aok-nowrap a-text-strike').get_text(strip=1)\n",
        "\n",
        "  print(f\"Brand: {brand}\")\n",
        "  print(f\"Product Name: {prod_name}\")\n",
        "  print(f\"Price: ${price_dollars}.{price_cents}\")\n",
        "  print(f\"Promotion: {promotion} ({ini_price})\")\n",
        "  print(\"-\" * 40)"
      ],
      "metadata": {
        "colab": {
          "base_uri": "https://localhost:8080/"
        },
        "outputId": "7f78d636-d69c-45d2-91fc-2dc6d4c3f271",
        "id": "F7MoadTOxaOY"
      },
      "execution_count": null,
      "outputs": [
        {
          "output_type": "stream",
          "name": "stdout",
          "text": [
            "Brand: \n",
            "                      VECAVE\n",
            "                     \n",
            "Product Name: \n",
            "Price: $18..49\n",
            "Promotion: $36.99(50% off) ($36.99)\n",
            "----------------------------------------\n",
            "Brand: \n",
            "                      Travelers Club\n",
            "                     \n",
            "Product Name: \n",
            "Price: $117..17\n",
            "Promotion: $140.00(16% off) ($140.00)\n",
            "----------------------------------------\n",
            "Brand: \n",
            "                      Montana West\n",
            "                     \n",
            "Product Name: \n",
            "Price: $14..99\n",
            "Promotion: $25.49(41% off) ($25.49)\n",
            "----------------------------------------\n",
            "Brand: \n",
            "                      Pander\n",
            "                     \n",
            "Product Name: \n",
            "Price: $7..54\n",
            "Promotion: $29.99(75% off) ($29.99)\n",
            "----------------------------------------\n",
            "Brand: \n",
            "                      Oakley\n",
            "                     \n",
            "Product Name: \n",
            "Price: $17..99\n",
            "Promotion: $27.00(33% off) ($27.00)\n",
            "----------------------------------------\n",
            "Brand: \n",
            "                      totes\n",
            "                     \n",
            "Product Name: \n",
            "Price: $12..29\n",
            "Promotion: $14.99(18% off) ($14.99)\n",
            "----------------------------------------\n",
            "Brand: \n",
            "                      YESIIW\n",
            "                     \n",
            "Product Name: \n",
            "Price: $16..29\n",
            "Promotion: $29.99(46% off) ($29.99)\n",
            "----------------------------------------\n",
            "Brand: \n",
            "                      PUMA\n",
            "                     \n",
            "Product Name: \n",
            "Price: $38..46\n",
            "Promotion: $70.00(45% off) ($70.00)\n",
            "----------------------------------------\n",
            "Brand: \n",
            "                      Neutrogena Rapid Wrinkle Repair Retinol Face Moisturizer with SPF 30 Sunscreen, Daily Anti-Aging Face Cream with Retinol & Hyaluronic Acid to Fight Fine Lines, Wrinkles, & Dark Spots, 1 fl. oz\n",
            "                     \n",
            "Product Name: \n",
            "Price: $17..03\n",
            "Promotion: $29.49(42% off) ($29.49)\n",
            "----------------------------------------\n",
            "Brand: \n",
            "                      CHI Original Ceramic Hair Straightener Flat Iron | 1 Inch Ceramic Floating Plates | Quick Heat Up | Analog On/Off Switch | Black\n",
            "                     \n",
            "Product Name: \n",
            "Price: $45..87\n",
            "Promotion: $99.98(54% off) ($99.98)\n",
            "----------------------------------------\n"
          ]
        }
      ]
    },
    {
      "cell_type": "code",
      "source": [
        "size = attribute.strip()[6:11]\n",
        "size\n",
        "color = attribute.strip()"
      ],
      "metadata": {
        "id": "MJXmrOCjFQol"
      },
      "execution_count": null,
      "outputs": []
    },
    {
      "cell_type": "code",
      "source": [
        "st = 'aloha hello hi'\n",
        "st.split()[1]"
      ],
      "metadata": {
        "colab": {
          "base_uri": "https://localhost:8080/",
          "height": 35
        },
        "id": "KAhFqL1fjt1a",
        "outputId": "30eafc18-1646-4aa5-ff21-ce5b8ce2efeb"
      },
      "execution_count": null,
      "outputs": [
        {
          "output_type": "execute_result",
          "data": {
            "text/plain": [
              "'hello'"
            ],
            "application/vnd.google.colaboratory.intrinsic+json": {
              "type": "string"
            }
          },
          "metadata": {},
          "execution_count": 91
        }
      ]
    },
    {
      "cell_type": "code",
      "source": [
        "def size(input_str):\n",
        "  sz = input_str.split()[1]\n",
        "  print(sz)\n",
        "  return sz\n",
        "\n",
        "def color(input_str):\n",
        "  col = input_str.split()[3]\n",
        "  print(col)\n",
        "  return col"
      ],
      "metadata": {
        "id": "kU2Hxz2daCOn"
      },
      "execution_count": null,
      "outputs": []
    },
    {
      "cell_type": "code",
      "source": [
        "title = title.strip()\n",
        "print(title)\n",
        "sz = str(size(attribute))\n",
        "col = str(color(attribute))"
      ],
      "metadata": {
        "colab": {
          "base_uri": "https://localhost:8080/"
        },
        "id": "IHWQ2IuicpQI",
        "outputId": "43e75690-eb92-4d4f-c154-1e069c62d090"
      },
      "execution_count": null,
      "outputs": [
        {
          "output_type": "stream",
          "name": "stdout",
          "text": [
            "Data Over Opinion - Men's Soft & Comfortable T-Shirt\n",
            "Large\n",
            "Black\n"
          ]
        }
      ]
    },
    {
      "cell_type": "code",
      "source": [
        "sz"
      ],
      "metadata": {
        "colab": {
          "base_uri": "https://localhost:8080/",
          "height": 35
        },
        "id": "8St20LI2omV_",
        "outputId": "ff3e032e-ecc0-4f01-f7e9-16e285a8e7e2"
      },
      "execution_count": null,
      "outputs": [
        {
          "output_type": "execute_result",
          "data": {
            "text/plain": [
              "'Large'"
            ],
            "application/vnd.google.colaboratory.intrinsic+json": {
              "type": "string"
            }
          },
          "metadata": {},
          "execution_count": 54
        }
      ]
    },
    {
      "cell_type": "code",
      "source": [
        "today = datetime.date.today()\n",
        "print(today)"
      ],
      "metadata": {
        "colab": {
          "base_uri": "https://localhost:8080/"
        },
        "id": "xc4RL52GC6_J",
        "outputId": "d3196989-fd21-4617-d474-3e374d0c1f20"
      },
      "execution_count": null,
      "outputs": [
        {
          "output_type": "stream",
          "name": "stdout",
          "text": [
            "2024-02-25\n"
          ]
        }
      ]
    },
    {
      "cell_type": "code",
      "source": [
        "import csv\n",
        "\n",
        "header = ['Title', 'Size', 'Color', 'Date']\n",
        "data = [title, sz, col, today]\n",
        "\n",
        "with open('AmazonWebScraping.csv', 'w', encoding='utf8') as f:\n",
        "  writer = csv.writer(f)\n",
        "  writer.writerow(header)\n",
        "  writer.writerow(data)\n"
      ],
      "metadata": {
        "id": "HRqiwv9ph46D"
      },
      "execution_count": null,
      "outputs": []
    },
    {
      "cell_type": "code",
      "source": [
        "import pandas as pd\n",
        "\n",
        "df = pd.read_csv('/content/AmazonWebScraping.csv')\n",
        "\n",
        "print(df)"
      ],
      "metadata": {
        "colab": {
          "base_uri": "https://localhost:8080/"
        },
        "id": "yCTyXexKnjgl",
        "outputId": "c0c48b5d-290a-4ce0-9c03-0585f9ad345f"
      },
      "execution_count": null,
      "outputs": [
        {
          "output_type": "stream",
          "name": "stdout",
          "text": [
            "                                               Title   Size  Color        Date\n",
            "0  BH Cool Designs Data Over Opinion - Men's Soft...  Large  Black  2024-02-25\n"
          ]
        }
      ]
    },
    {
      "cell_type": "code",
      "source": [
        "#append data to the csv\n",
        "\n",
        "with open('AmazonWebScraping.csv', 'a+', newline = '', encoding='utf8') as f:\n",
        "  writer = csv.writer(f)\n",
        "  writer.writerow(data)"
      ],
      "metadata": {
        "id": "JxG2EsNmKP1m"
      },
      "execution_count": null,
      "outputs": []
    },
    {
      "cell_type": "code",
      "source": [
        "def get_product_info(url):\n",
        "\n",
        "  headers = {\"User-Agent\": \"Mozilla/5.0 (Windows NT 10.0; Win64; x64) AppleWebKit/537.36 (KHTML, like Gecko) Chrome/121.0.0.0 Safari/537.36\",  \"Accept\": \"text/html,application/xhtml+xml,application/xml;q=0.9,image/avif,image/webp,image/apng,*/*;q=0.8,application/signed-exchange;v=b3;q=0.7\",\"Accept-Encoding\": \"gzip, deflate, br\",\"Upgrade-Insecure-Requests\": \"1\"}\n",
        "\n",
        "  try:\n",
        "    page = requests.get(url, headers=headers)\n",
        "    soup1 = BeautifulSoup(page.content, 'lxml')\n",
        "\n",
        "    attribute = soup1.find('form',attrs={'id':'twister'}).get_text(separator=' ',strip=1)\n",
        "    title = soup1.find('span', attrs={'id':'productTitle'}).get_text(strip=1)\n",
        "\n",
        "    today = datetime.date.today()\n",
        "\n",
        "    size = attribute.split()[1]\n",
        "    color = attribute.split()[3]\n",
        "    header = ['Title', 'Size', 'Color', 'Date']\n",
        "    data = [title, size, color, today]\n",
        "\n",
        "    with open('AmazonWebScraping.csv', 'a+', newline='', encoding='utf8') as f:\n",
        "      writer = csv.writer(f)\n",
        "      writer.writerow(data)\n",
        "\n",
        "\n",
        "  except Exception as e:\n",
        "    print(f'Error: {e}')\n",
        "    return None, None\n"
      ],
      "metadata": {
        "id": "FWQTd5SxLX55"
      },
      "execution_count": null,
      "outputs": []
    },
    {
      "cell_type": "code",
      "source": [
        "while(True):\n",
        "  get_product_info(URL)\n",
        "  time.sleep(5)"
      ],
      "metadata": {
        "colab": {
          "base_uri": "https://localhost:8080/",
          "height": 321
        },
        "id": "mGDnBDq0LZqb",
        "outputId": "752cb48b-4e66-4466-c640-18162d4d1908"
      },
      "execution_count": null,
      "outputs": [
        {
          "output_type": "error",
          "ename": "KeyboardInterrupt",
          "evalue": "",
          "traceback": [
            "\u001b[0;31m---------------------------------------------------------------------------\u001b[0m",
            "\u001b[0;31mKeyboardInterrupt\u001b[0m                         Traceback (most recent call last)",
            "\u001b[0;32m<ipython-input-60-ba51c0dea745>\u001b[0m in \u001b[0;36m<cell line: 1>\u001b[0;34m()\u001b[0m\n\u001b[1;32m      1\u001b[0m \u001b[0;32mwhile\u001b[0m\u001b[0;34m(\u001b[0m\u001b[0;32mTrue\u001b[0m\u001b[0;34m)\u001b[0m\u001b[0;34m:\u001b[0m\u001b[0;34m\u001b[0m\u001b[0;34m\u001b[0m\u001b[0m\n\u001b[0;32m----> 2\u001b[0;31m   \u001b[0mget_product_info\u001b[0m\u001b[0;34m(\u001b[0m\u001b[0mURL\u001b[0m\u001b[0;34m)\u001b[0m\u001b[0;34m\u001b[0m\u001b[0;34m\u001b[0m\u001b[0m\n\u001b[0m\u001b[1;32m      3\u001b[0m   \u001b[0mtime\u001b[0m\u001b[0;34m.\u001b[0m\u001b[0msleep\u001b[0m\u001b[0;34m(\u001b[0m\u001b[0;36m5\u001b[0m\u001b[0;34m)\u001b[0m\u001b[0;34m\u001b[0m\u001b[0;34m\u001b[0m\u001b[0m\n",
            "\u001b[0;32m<ipython-input-59-d86879d8e689>\u001b[0m in \u001b[0;36mget_product_info\u001b[0;34m(url)\u001b[0m\n\u001b[1;32m      4\u001b[0m \u001b[0;34m\u001b[0m\u001b[0m\n\u001b[1;32m      5\u001b[0m   \u001b[0;32mtry\u001b[0m\u001b[0;34m:\u001b[0m\u001b[0;34m\u001b[0m\u001b[0;34m\u001b[0m\u001b[0m\n\u001b[0;32m----> 6\u001b[0;31m     \u001b[0mpage\u001b[0m \u001b[0;34m=\u001b[0m \u001b[0mrequests\u001b[0m\u001b[0;34m.\u001b[0m\u001b[0mget\u001b[0m\u001b[0;34m(\u001b[0m\u001b[0murl\u001b[0m\u001b[0;34m,\u001b[0m \u001b[0mheaders\u001b[0m\u001b[0;34m=\u001b[0m\u001b[0mheaders\u001b[0m\u001b[0;34m)\u001b[0m\u001b[0;34m\u001b[0m\u001b[0;34m\u001b[0m\u001b[0m\n\u001b[0m\u001b[1;32m      7\u001b[0m     \u001b[0msoup1\u001b[0m \u001b[0;34m=\u001b[0m \u001b[0mBeautifulSoup\u001b[0m\u001b[0;34m(\u001b[0m\u001b[0mpage\u001b[0m\u001b[0;34m.\u001b[0m\u001b[0mcontent\u001b[0m\u001b[0;34m,\u001b[0m \u001b[0;34m'lxml'\u001b[0m\u001b[0;34m)\u001b[0m\u001b[0;34m\u001b[0m\u001b[0;34m\u001b[0m\u001b[0m\n\u001b[1;32m      8\u001b[0m \u001b[0;34m\u001b[0m\u001b[0m\n",
            "\u001b[0;32m/usr/local/lib/python3.10/dist-packages/requests/api.py\u001b[0m in \u001b[0;36mget\u001b[0;34m(url, params, **kwargs)\u001b[0m\n\u001b[1;32m     71\u001b[0m     \"\"\"\n\u001b[1;32m     72\u001b[0m \u001b[0;34m\u001b[0m\u001b[0m\n\u001b[0;32m---> 73\u001b[0;31m     \u001b[0;32mreturn\u001b[0m \u001b[0mrequest\u001b[0m\u001b[0;34m(\u001b[0m\u001b[0;34m\"get\"\u001b[0m\u001b[0;34m,\u001b[0m \u001b[0murl\u001b[0m\u001b[0;34m,\u001b[0m \u001b[0mparams\u001b[0m\u001b[0;34m=\u001b[0m\u001b[0mparams\u001b[0m\u001b[0;34m,\u001b[0m \u001b[0;34m**\u001b[0m\u001b[0mkwargs\u001b[0m\u001b[0;34m)\u001b[0m\u001b[0;34m\u001b[0m\u001b[0;34m\u001b[0m\u001b[0m\n\u001b[0m\u001b[1;32m     74\u001b[0m \u001b[0;34m\u001b[0m\u001b[0m\n\u001b[1;32m     75\u001b[0m \u001b[0;34m\u001b[0m\u001b[0m\n",
            "\u001b[0;32m/usr/local/lib/python3.10/dist-packages/requests/api.py\u001b[0m in \u001b[0;36mrequest\u001b[0;34m(method, url, **kwargs)\u001b[0m\n\u001b[1;32m     57\u001b[0m     \u001b[0;31m# cases, and look like a memory leak in others.\u001b[0m\u001b[0;34m\u001b[0m\u001b[0;34m\u001b[0m\u001b[0m\n\u001b[1;32m     58\u001b[0m     \u001b[0;32mwith\u001b[0m \u001b[0msessions\u001b[0m\u001b[0;34m.\u001b[0m\u001b[0mSession\u001b[0m\u001b[0;34m(\u001b[0m\u001b[0;34m)\u001b[0m \u001b[0;32mas\u001b[0m \u001b[0msession\u001b[0m\u001b[0;34m:\u001b[0m\u001b[0;34m\u001b[0m\u001b[0;34m\u001b[0m\u001b[0m\n\u001b[0;32m---> 59\u001b[0;31m         \u001b[0;32mreturn\u001b[0m \u001b[0msession\u001b[0m\u001b[0;34m.\u001b[0m\u001b[0mrequest\u001b[0m\u001b[0;34m(\u001b[0m\u001b[0mmethod\u001b[0m\u001b[0;34m=\u001b[0m\u001b[0mmethod\u001b[0m\u001b[0;34m,\u001b[0m \u001b[0murl\u001b[0m\u001b[0;34m=\u001b[0m\u001b[0murl\u001b[0m\u001b[0;34m,\u001b[0m \u001b[0;34m**\u001b[0m\u001b[0mkwargs\u001b[0m\u001b[0;34m)\u001b[0m\u001b[0;34m\u001b[0m\u001b[0;34m\u001b[0m\u001b[0m\n\u001b[0m\u001b[1;32m     60\u001b[0m \u001b[0;34m\u001b[0m\u001b[0m\n\u001b[1;32m     61\u001b[0m \u001b[0;34m\u001b[0m\u001b[0m\n",
            "\u001b[0;32m/usr/local/lib/python3.10/dist-packages/requests/sessions.py\u001b[0m in \u001b[0;36mrequest\u001b[0;34m(self, method, url, params, data, headers, cookies, files, auth, timeout, allow_redirects, proxies, hooks, stream, verify, cert, json)\u001b[0m\n\u001b[1;32m    587\u001b[0m         }\n\u001b[1;32m    588\u001b[0m         \u001b[0msend_kwargs\u001b[0m\u001b[0;34m.\u001b[0m\u001b[0mupdate\u001b[0m\u001b[0;34m(\u001b[0m\u001b[0msettings\u001b[0m\u001b[0;34m)\u001b[0m\u001b[0;34m\u001b[0m\u001b[0;34m\u001b[0m\u001b[0m\n\u001b[0;32m--> 589\u001b[0;31m         \u001b[0mresp\u001b[0m \u001b[0;34m=\u001b[0m \u001b[0mself\u001b[0m\u001b[0;34m.\u001b[0m\u001b[0msend\u001b[0m\u001b[0;34m(\u001b[0m\u001b[0mprep\u001b[0m\u001b[0;34m,\u001b[0m \u001b[0;34m**\u001b[0m\u001b[0msend_kwargs\u001b[0m\u001b[0;34m)\u001b[0m\u001b[0;34m\u001b[0m\u001b[0;34m\u001b[0m\u001b[0m\n\u001b[0m\u001b[1;32m    590\u001b[0m \u001b[0;34m\u001b[0m\u001b[0m\n\u001b[1;32m    591\u001b[0m         \u001b[0;32mreturn\u001b[0m \u001b[0mresp\u001b[0m\u001b[0;34m\u001b[0m\u001b[0;34m\u001b[0m\u001b[0m\n",
            "\u001b[0;32m/usr/local/lib/python3.10/dist-packages/requests/sessions.py\u001b[0m in \u001b[0;36msend\u001b[0;34m(self, request, **kwargs)\u001b[0m\n\u001b[1;32m    745\u001b[0m \u001b[0;34m\u001b[0m\u001b[0m\n\u001b[1;32m    746\u001b[0m         \u001b[0;32mif\u001b[0m \u001b[0;32mnot\u001b[0m \u001b[0mstream\u001b[0m\u001b[0;34m:\u001b[0m\u001b[0;34m\u001b[0m\u001b[0;34m\u001b[0m\u001b[0m\n\u001b[0;32m--> 747\u001b[0;31m             \u001b[0mr\u001b[0m\u001b[0;34m.\u001b[0m\u001b[0mcontent\u001b[0m\u001b[0;34m\u001b[0m\u001b[0;34m\u001b[0m\u001b[0m\n\u001b[0m\u001b[1;32m    748\u001b[0m \u001b[0;34m\u001b[0m\u001b[0m\n\u001b[1;32m    749\u001b[0m         \u001b[0;32mreturn\u001b[0m \u001b[0mr\u001b[0m\u001b[0;34m\u001b[0m\u001b[0;34m\u001b[0m\u001b[0m\n",
            "\u001b[0;32m/usr/local/lib/python3.10/dist-packages/requests/models.py\u001b[0m in \u001b[0;36mcontent\u001b[0;34m(self)\u001b[0m\n\u001b[1;32m    897\u001b[0m                 \u001b[0mself\u001b[0m\u001b[0;34m.\u001b[0m\u001b[0m_content\u001b[0m \u001b[0;34m=\u001b[0m \u001b[0;32mNone\u001b[0m\u001b[0;34m\u001b[0m\u001b[0;34m\u001b[0m\u001b[0m\n\u001b[1;32m    898\u001b[0m             \u001b[0;32melse\u001b[0m\u001b[0;34m:\u001b[0m\u001b[0;34m\u001b[0m\u001b[0;34m\u001b[0m\u001b[0m\n\u001b[0;32m--> 899\u001b[0;31m                 \u001b[0mself\u001b[0m\u001b[0;34m.\u001b[0m\u001b[0m_content\u001b[0m \u001b[0;34m=\u001b[0m \u001b[0;34mb\"\"\u001b[0m\u001b[0;34m.\u001b[0m\u001b[0mjoin\u001b[0m\u001b[0;34m(\u001b[0m\u001b[0mself\u001b[0m\u001b[0;34m.\u001b[0m\u001b[0miter_content\u001b[0m\u001b[0;34m(\u001b[0m\u001b[0mCONTENT_CHUNK_SIZE\u001b[0m\u001b[0;34m)\u001b[0m\u001b[0;34m)\u001b[0m \u001b[0;32mor\u001b[0m \u001b[0;34mb\"\"\u001b[0m\u001b[0;34m\u001b[0m\u001b[0;34m\u001b[0m\u001b[0m\n\u001b[0m\u001b[1;32m    900\u001b[0m \u001b[0;34m\u001b[0m\u001b[0m\n\u001b[1;32m    901\u001b[0m         \u001b[0mself\u001b[0m\u001b[0;34m.\u001b[0m\u001b[0m_content_consumed\u001b[0m \u001b[0;34m=\u001b[0m \u001b[0;32mTrue\u001b[0m\u001b[0;34m\u001b[0m\u001b[0;34m\u001b[0m\u001b[0m\n",
            "\u001b[0;32m/usr/local/lib/python3.10/dist-packages/requests/models.py\u001b[0m in \u001b[0;36mgenerate\u001b[0;34m()\u001b[0m\n\u001b[1;32m    814\u001b[0m             \u001b[0;32mif\u001b[0m \u001b[0mhasattr\u001b[0m\u001b[0;34m(\u001b[0m\u001b[0mself\u001b[0m\u001b[0;34m.\u001b[0m\u001b[0mraw\u001b[0m\u001b[0;34m,\u001b[0m \u001b[0;34m\"stream\"\u001b[0m\u001b[0;34m)\u001b[0m\u001b[0;34m:\u001b[0m\u001b[0;34m\u001b[0m\u001b[0;34m\u001b[0m\u001b[0m\n\u001b[1;32m    815\u001b[0m                 \u001b[0;32mtry\u001b[0m\u001b[0;34m:\u001b[0m\u001b[0;34m\u001b[0m\u001b[0;34m\u001b[0m\u001b[0m\n\u001b[0;32m--> 816\u001b[0;31m                     \u001b[0;32myield\u001b[0m \u001b[0;32mfrom\u001b[0m \u001b[0mself\u001b[0m\u001b[0;34m.\u001b[0m\u001b[0mraw\u001b[0m\u001b[0;34m.\u001b[0m\u001b[0mstream\u001b[0m\u001b[0;34m(\u001b[0m\u001b[0mchunk_size\u001b[0m\u001b[0;34m,\u001b[0m \u001b[0mdecode_content\u001b[0m\u001b[0;34m=\u001b[0m\u001b[0;32mTrue\u001b[0m\u001b[0;34m)\u001b[0m\u001b[0;34m\u001b[0m\u001b[0;34m\u001b[0m\u001b[0m\n\u001b[0m\u001b[1;32m    817\u001b[0m                 \u001b[0;32mexcept\u001b[0m \u001b[0mProtocolError\u001b[0m \u001b[0;32mas\u001b[0m \u001b[0me\u001b[0m\u001b[0;34m:\u001b[0m\u001b[0;34m\u001b[0m\u001b[0;34m\u001b[0m\u001b[0m\n\u001b[1;32m    818\u001b[0m                     \u001b[0;32mraise\u001b[0m \u001b[0mChunkedEncodingError\u001b[0m\u001b[0;34m(\u001b[0m\u001b[0me\u001b[0m\u001b[0;34m)\u001b[0m\u001b[0;34m\u001b[0m\u001b[0;34m\u001b[0m\u001b[0m\n",
            "\u001b[0;32m/usr/local/lib/python3.10/dist-packages/urllib3/response.py\u001b[0m in \u001b[0;36mstream\u001b[0;34m(self, amt, decode_content)\u001b[0m\n\u001b[1;32m    931\u001b[0m         \"\"\"\n\u001b[1;32m    932\u001b[0m         \u001b[0;32mif\u001b[0m \u001b[0mself\u001b[0m\u001b[0;34m.\u001b[0m\u001b[0mchunked\u001b[0m \u001b[0;32mand\u001b[0m \u001b[0mself\u001b[0m\u001b[0;34m.\u001b[0m\u001b[0msupports_chunked_reads\u001b[0m\u001b[0;34m(\u001b[0m\u001b[0;34m)\u001b[0m\u001b[0;34m:\u001b[0m\u001b[0;34m\u001b[0m\u001b[0;34m\u001b[0m\u001b[0m\n\u001b[0;32m--> 933\u001b[0;31m             \u001b[0;32myield\u001b[0m \u001b[0;32mfrom\u001b[0m \u001b[0mself\u001b[0m\u001b[0;34m.\u001b[0m\u001b[0mread_chunked\u001b[0m\u001b[0;34m(\u001b[0m\u001b[0mamt\u001b[0m\u001b[0;34m,\u001b[0m \u001b[0mdecode_content\u001b[0m\u001b[0;34m=\u001b[0m\u001b[0mdecode_content\u001b[0m\u001b[0;34m)\u001b[0m\u001b[0;34m\u001b[0m\u001b[0;34m\u001b[0m\u001b[0m\n\u001b[0m\u001b[1;32m    934\u001b[0m         \u001b[0;32melse\u001b[0m\u001b[0;34m:\u001b[0m\u001b[0;34m\u001b[0m\u001b[0;34m\u001b[0m\u001b[0m\n\u001b[1;32m    935\u001b[0m             \u001b[0;32mwhile\u001b[0m \u001b[0;32mnot\u001b[0m \u001b[0mis_fp_closed\u001b[0m\u001b[0;34m(\u001b[0m\u001b[0mself\u001b[0m\u001b[0;34m.\u001b[0m\u001b[0m_fp\u001b[0m\u001b[0;34m)\u001b[0m \u001b[0;32mor\u001b[0m \u001b[0mlen\u001b[0m\u001b[0;34m(\u001b[0m\u001b[0mself\u001b[0m\u001b[0;34m.\u001b[0m\u001b[0m_decoded_buffer\u001b[0m\u001b[0;34m)\u001b[0m \u001b[0;34m>\u001b[0m \u001b[0;36m0\u001b[0m\u001b[0;34m:\u001b[0m\u001b[0;34m\u001b[0m\u001b[0;34m\u001b[0m\u001b[0m\n",
            "\u001b[0;32m/usr/local/lib/python3.10/dist-packages/urllib3/response.py\u001b[0m in \u001b[0;36mread_chunked\u001b[0;34m(self, amt, decode_content)\u001b[0m\n\u001b[1;32m   1071\u001b[0m \u001b[0;34m\u001b[0m\u001b[0m\n\u001b[1;32m   1072\u001b[0m             \u001b[0;32mwhile\u001b[0m \u001b[0;32mTrue\u001b[0m\u001b[0;34m:\u001b[0m\u001b[0;34m\u001b[0m\u001b[0;34m\u001b[0m\u001b[0m\n\u001b[0;32m-> 1073\u001b[0;31m                 \u001b[0mself\u001b[0m\u001b[0;34m.\u001b[0m\u001b[0m_update_chunk_length\u001b[0m\u001b[0;34m(\u001b[0m\u001b[0;34m)\u001b[0m\u001b[0;34m\u001b[0m\u001b[0;34m\u001b[0m\u001b[0m\n\u001b[0m\u001b[1;32m   1074\u001b[0m                 \u001b[0;32mif\u001b[0m \u001b[0mself\u001b[0m\u001b[0;34m.\u001b[0m\u001b[0mchunk_left\u001b[0m \u001b[0;34m==\u001b[0m \u001b[0;36m0\u001b[0m\u001b[0;34m:\u001b[0m\u001b[0;34m\u001b[0m\u001b[0;34m\u001b[0m\u001b[0m\n\u001b[1;32m   1075\u001b[0m                     \u001b[0;32mbreak\u001b[0m\u001b[0;34m\u001b[0m\u001b[0;34m\u001b[0m\u001b[0m\n",
            "\u001b[0;32m/usr/local/lib/python3.10/dist-packages/urllib3/response.py\u001b[0m in \u001b[0;36m_update_chunk_length\u001b[0;34m(self)\u001b[0m\n\u001b[1;32m    999\u001b[0m         \u001b[0;32mif\u001b[0m \u001b[0mself\u001b[0m\u001b[0;34m.\u001b[0m\u001b[0mchunk_left\u001b[0m \u001b[0;32mis\u001b[0m \u001b[0;32mnot\u001b[0m \u001b[0;32mNone\u001b[0m\u001b[0;34m:\u001b[0m\u001b[0;34m\u001b[0m\u001b[0;34m\u001b[0m\u001b[0m\n\u001b[1;32m   1000\u001b[0m             \u001b[0;32mreturn\u001b[0m \u001b[0;32mNone\u001b[0m\u001b[0;34m\u001b[0m\u001b[0;34m\u001b[0m\u001b[0m\n\u001b[0;32m-> 1001\u001b[0;31m         \u001b[0mline\u001b[0m \u001b[0;34m=\u001b[0m \u001b[0mself\u001b[0m\u001b[0;34m.\u001b[0m\u001b[0m_fp\u001b[0m\u001b[0;34m.\u001b[0m\u001b[0mfp\u001b[0m\u001b[0;34m.\u001b[0m\u001b[0mreadline\u001b[0m\u001b[0;34m(\u001b[0m\u001b[0;34m)\u001b[0m  \u001b[0;31m# type: ignore[union-attr]\u001b[0m\u001b[0;34m\u001b[0m\u001b[0;34m\u001b[0m\u001b[0m\n\u001b[0m\u001b[1;32m   1002\u001b[0m         \u001b[0mline\u001b[0m \u001b[0;34m=\u001b[0m \u001b[0mline\u001b[0m\u001b[0;34m.\u001b[0m\u001b[0msplit\u001b[0m\u001b[0;34m(\u001b[0m\u001b[0;34mb\";\"\u001b[0m\u001b[0;34m,\u001b[0m \u001b[0;36m1\u001b[0m\u001b[0;34m)\u001b[0m\u001b[0;34m[\u001b[0m\u001b[0;36m0\u001b[0m\u001b[0;34m]\u001b[0m\u001b[0;34m\u001b[0m\u001b[0;34m\u001b[0m\u001b[0m\n\u001b[1;32m   1003\u001b[0m         \u001b[0;32mtry\u001b[0m\u001b[0;34m:\u001b[0m\u001b[0;34m\u001b[0m\u001b[0;34m\u001b[0m\u001b[0m\n",
            "\u001b[0;32m/usr/lib/python3.10/socket.py\u001b[0m in \u001b[0;36mreadinto\u001b[0;34m(self, b)\u001b[0m\n\u001b[1;32m    703\u001b[0m         \u001b[0;32mwhile\u001b[0m \u001b[0;32mTrue\u001b[0m\u001b[0;34m:\u001b[0m\u001b[0;34m\u001b[0m\u001b[0;34m\u001b[0m\u001b[0m\n\u001b[1;32m    704\u001b[0m             \u001b[0;32mtry\u001b[0m\u001b[0;34m:\u001b[0m\u001b[0;34m\u001b[0m\u001b[0;34m\u001b[0m\u001b[0m\n\u001b[0;32m--> 705\u001b[0;31m                 \u001b[0;32mreturn\u001b[0m \u001b[0mself\u001b[0m\u001b[0;34m.\u001b[0m\u001b[0m_sock\u001b[0m\u001b[0;34m.\u001b[0m\u001b[0mrecv_into\u001b[0m\u001b[0;34m(\u001b[0m\u001b[0mb\u001b[0m\u001b[0;34m)\u001b[0m\u001b[0;34m\u001b[0m\u001b[0;34m\u001b[0m\u001b[0m\n\u001b[0m\u001b[1;32m    706\u001b[0m             \u001b[0;32mexcept\u001b[0m \u001b[0mtimeout\u001b[0m\u001b[0;34m:\u001b[0m\u001b[0;34m\u001b[0m\u001b[0;34m\u001b[0m\u001b[0m\n\u001b[1;32m    707\u001b[0m                 \u001b[0mself\u001b[0m\u001b[0;34m.\u001b[0m\u001b[0m_timeout_occurred\u001b[0m \u001b[0;34m=\u001b[0m \u001b[0;32mTrue\u001b[0m\u001b[0;34m\u001b[0m\u001b[0;34m\u001b[0m\u001b[0m\n",
            "\u001b[0;32m/usr/lib/python3.10/ssl.py\u001b[0m in \u001b[0;36mrecv_into\u001b[0;34m(self, buffer, nbytes, flags)\u001b[0m\n\u001b[1;32m   1301\u001b[0m                   \u001b[0;34m\"non-zero flags not allowed in calls to recv_into() on %s\"\u001b[0m \u001b[0;34m%\u001b[0m\u001b[0;34m\u001b[0m\u001b[0;34m\u001b[0m\u001b[0m\n\u001b[1;32m   1302\u001b[0m                   self.__class__)\n\u001b[0;32m-> 1303\u001b[0;31m             \u001b[0;32mreturn\u001b[0m \u001b[0mself\u001b[0m\u001b[0;34m.\u001b[0m\u001b[0mread\u001b[0m\u001b[0;34m(\u001b[0m\u001b[0mnbytes\u001b[0m\u001b[0;34m,\u001b[0m \u001b[0mbuffer\u001b[0m\u001b[0;34m)\u001b[0m\u001b[0;34m\u001b[0m\u001b[0;34m\u001b[0m\u001b[0m\n\u001b[0m\u001b[1;32m   1304\u001b[0m         \u001b[0;32melse\u001b[0m\u001b[0;34m:\u001b[0m\u001b[0;34m\u001b[0m\u001b[0;34m\u001b[0m\u001b[0m\n\u001b[1;32m   1305\u001b[0m             \u001b[0;32mreturn\u001b[0m \u001b[0msuper\u001b[0m\u001b[0;34m(\u001b[0m\u001b[0;34m)\u001b[0m\u001b[0;34m.\u001b[0m\u001b[0mrecv_into\u001b[0m\u001b[0;34m(\u001b[0m\u001b[0mbuffer\u001b[0m\u001b[0;34m,\u001b[0m \u001b[0mnbytes\u001b[0m\u001b[0;34m,\u001b[0m \u001b[0mflags\u001b[0m\u001b[0;34m)\u001b[0m\u001b[0;34m\u001b[0m\u001b[0;34m\u001b[0m\u001b[0m\n",
            "\u001b[0;32m/usr/lib/python3.10/ssl.py\u001b[0m in \u001b[0;36mread\u001b[0;34m(self, len, buffer)\u001b[0m\n\u001b[1;32m   1157\u001b[0m         \u001b[0;32mtry\u001b[0m\u001b[0;34m:\u001b[0m\u001b[0;34m\u001b[0m\u001b[0;34m\u001b[0m\u001b[0m\n\u001b[1;32m   1158\u001b[0m             \u001b[0;32mif\u001b[0m \u001b[0mbuffer\u001b[0m \u001b[0;32mis\u001b[0m \u001b[0;32mnot\u001b[0m \u001b[0;32mNone\u001b[0m\u001b[0;34m:\u001b[0m\u001b[0;34m\u001b[0m\u001b[0;34m\u001b[0m\u001b[0m\n\u001b[0;32m-> 1159\u001b[0;31m                 \u001b[0;32mreturn\u001b[0m \u001b[0mself\u001b[0m\u001b[0;34m.\u001b[0m\u001b[0m_sslobj\u001b[0m\u001b[0;34m.\u001b[0m\u001b[0mread\u001b[0m\u001b[0;34m(\u001b[0m\u001b[0mlen\u001b[0m\u001b[0;34m,\u001b[0m \u001b[0mbuffer\u001b[0m\u001b[0;34m)\u001b[0m\u001b[0;34m\u001b[0m\u001b[0;34m\u001b[0m\u001b[0m\n\u001b[0m\u001b[1;32m   1160\u001b[0m             \u001b[0;32melse\u001b[0m\u001b[0;34m:\u001b[0m\u001b[0;34m\u001b[0m\u001b[0;34m\u001b[0m\u001b[0m\n\u001b[1;32m   1161\u001b[0m                 \u001b[0;32mreturn\u001b[0m \u001b[0mself\u001b[0m\u001b[0;34m.\u001b[0m\u001b[0m_sslobj\u001b[0m\u001b[0;34m.\u001b[0m\u001b[0mread\u001b[0m\u001b[0;34m(\u001b[0m\u001b[0mlen\u001b[0m\u001b[0;34m)\u001b[0m\u001b[0;34m\u001b[0m\u001b[0;34m\u001b[0m\u001b[0m\n",
            "\u001b[0;31mKeyboardInterrupt\u001b[0m: "
          ]
        }
      ]
    },
    {
      "cell_type": "code",
      "source": [
        "import pandas as pd\n",
        "\n",
        "df = pd.read_csv('/content/AmazonWebScraping.csv')\n",
        "\n",
        "print(df)"
      ],
      "metadata": {
        "colab": {
          "base_uri": "https://localhost:8080/"
        },
        "id": "TF8Cagv1Zl9p",
        "outputId": "dd163f68-4ba8-46e3-8bc0-025882c29900"
      },
      "execution_count": null,
      "outputs": [
        {
          "output_type": "stream",
          "name": "stdout",
          "text": [
            "                                               Title   Size  Color        Date\n",
            "0  BH Cool Designs Data Over Opinion - Men's Soft...  Large  Black  2024-02-25\n",
            "1  BH Cool Designs Data Over Opinion - Men's Soft...  Large  Black  2024-02-25\n",
            "2  BH Cool Designs Data Over Opinion - Men's Soft...  Large  Black  2024-02-25\n",
            "3  BH Cool Designs Data Over Opinion - Men's Soft...  Large  Black  2024-02-25\n",
            "4  Data Over Opinion - Men's Soft & Comfortable T...  Large  Black  2024-02-25\n",
            "5  BH Cool Designs Data Over Opinion - Men's Soft...  Large  Black  2024-02-25\n",
            "6  BH Cool Designs Data Over Opinion - Men's Soft...  Large  Black  2024-02-25\n",
            "7  BH Cool Designs Data Over Opinion - Men's Soft...  Large  Black  2024-02-25\n",
            "8  Data Over Opinion - Men's Soft & Comfortable T...  Large  Black  2024-02-25\n",
            "9  Data Over Opinion - Men's Soft & Comfortable T...  Large  Black  2024-02-25\n"
          ]
        }
      ]
    }
  ]
}